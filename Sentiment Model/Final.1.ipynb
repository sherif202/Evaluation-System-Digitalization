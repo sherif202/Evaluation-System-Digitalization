{
 "cells": [
  {
   "cell_type": "code",
   "execution_count": 346,
   "id": "7374dfe2-d549-46e1-b141-0eb06faf0bf4",
   "metadata": {},
   "outputs": [],
   "source": [
    "import pandas as pd\n",
    "import numpy as np\n",
    "from scipy.special import softmax\n",
    "from tqdm import tqdm\n",
    "from transformers import AutoTokenizer, AutoModelForSequenceClassification,AutoModelForCausalLM\n",
    "import torch\n"
   ]
  },
  {
   "cell_type": "code",
   "execution_count": null,
   "id": "0fca835f-0cb3-4d2b-a6a6-7a1d06cb0b00",
   "metadata": {},
   "outputs": [],
   "source": []
  },
  {
   "cell_type": "code",
   "execution_count": null,
   "id": "4da0ad2b-e99b-478b-8c15-2ea263f640b8",
   "metadata": {},
   "outputs": [],
   "source": [
    "# Load the Excel file\n",
    "file_path = r'C:/Users/Work/OneDrive/Desktop/Document1.xlsx'\n",
    "df = pd.read_excel(file_path)\n",
    "df.columns = ['S_ID', 'ConcatenatedResponse']"
   ]
  },
  {
   "cell_type": "code",
   "execution_count": null,
   "id": "bf007f5e-0185-4056-be15-cc1bf4a0d63a",
   "metadata": {},
   "outputs": [],
   "source": [
    "df"
   ]
  },
  {
   "cell_type": "code",
   "execution_count": null,
   "id": "8c0f6fca-b4c9-45e2-9712-2c8930b08eea",
   "metadata": {},
   "outputs": [],
   "source": [
    "df['concatenatedResponse letter count']=df['ConcatenatedResponse'].apply(len)"
   ]
  },
  {
   "cell_type": "code",
   "execution_count": null,
   "id": "efa2a52e-dc68-46eb-baf6-c732c7ac6993",
   "metadata": {},
   "outputs": [],
   "source": [
    "df.iloc[df['concatenatedResponse letter count'].idxmax()][1]"
   ]
  },
  {
   "cell_type": "code",
   "execution_count": null,
   "id": "0ba57c12-f846-4911-b21a-56d03298f779",
   "metadata": {},
   "outputs": [],
   "source": [
    "#text preprocessing Data\n",
    "df['ConcatenatedResponse'][3]"
   ]
  },
  {
   "cell_type": "code",
   "execution_count": null,
   "id": "0ce4c907-be94-4b87-93aa-e6f5d95fb3c5",
   "metadata": {},
   "outputs": [],
   "source": [
    "#import string \n",
    "#string.punctuation"
   ]
  },
  {
   "cell_type": "code",
   "execution_count": null,
   "id": "24598a33-cc31-45d1-81ff-9ea24860b3b4",
   "metadata": {},
   "outputs": [],
   "source": [
    "import nltk\n",
    "\n"
   ]
  },
  {
   "cell_type": "code",
   "execution_count": null,
   "id": "5f8edcd3-c981-4af4-b69d-2d19fe61bc22",
   "metadata": {},
   "outputs": [],
   "source": [
    "from nltk.corpus import stopwords"
   ]
  },
  {
   "cell_type": "code",
   "execution_count": null,
   "id": "b326edfe-b123-41e9-96ce-45a252871d3d",
   "metadata": {},
   "outputs": [],
   "source": [
    "nltk.download('stopwords')"
   ]
  },
  {
   "cell_type": "code",
   "execution_count": null,
   "id": "5eb54c76-55ff-47db-93b9-7619018d52bb",
   "metadata": {},
   "outputs": [],
   "source": [
    "stopwords.words('arabic')"
   ]
  },
  {
   "cell_type": "code",
   "execution_count": null,
   "id": "247f35c9-91ed-43e7-87a9-288a2dea383a",
   "metadata": {},
   "outputs": [],
   "source": [
    "print(stopwords.words('arabic'))"
   ]
  },
  {
   "cell_type": "code",
   "execution_count": null,
   "id": "d79541ee-c4e5-424d-a7e4-29afd1807cb2",
   "metadata": {},
   "outputs": [],
   "source": [
    "s=df['ConcatenatedResponse'][0]\n",
    "s\n"
   ]
  },
  {
   "cell_type": "code",
   "execution_count": null,
   "id": "2086d9f9-b42f-410d-b46e-7f752e5e78f4",
   "metadata": {},
   "outputs": [],
   "source": [
    "import re"
   ]
  },
  {
   "cell_type": "code",
   "execution_count": null,
   "id": "8c914f26-9c9a-4fe7-b07a-fd6f1832f9df",
   "metadata": {},
   "outputs": [],
   "source": [
    "re.sub('أ-ى ^', \" \",s)"
   ]
  },
  {
   "cell_type": "code",
   "execution_count": null,
   "id": "eaa78f1a-6b74-46cf-860d-cef35fffb1bb",
   "metadata": {},
   "outputs": [],
   "source": [
    "def custom_split(text, delimiter=' '):\n",
    "    result = []\n",
    "    current_word = ''\n",
    "    \n",
    "    for char in text:\n",
    "        if char == delimiter:\n",
    "            result.append(current_word)\n",
    "            current_word = ''\n",
    "        else:\n",
    "            current_word += char\n",
    "    \n",
    "    if current_word:\n",
    "        result.append(current_word)\n",
    "    \n",
    "    return result\n"
   ]
  },
  {
   "cell_type": "code",
   "execution_count": null,
   "id": "4604427e-faf1-47c8-a4de-e514d3a2f0b2",
   "metadata": {},
   "outputs": [],
   "source": [
    "s=custom_split(s)\n",
    "s"
   ]
  },
  {
   "cell_type": "code",
   "execution_count": null,
   "id": "8606a736-cbcb-41e2-af70-a7a9f93d0854",
   "metadata": {},
   "outputs": [],
   "source": [
    "from nltk.corpus import stopwords\n"
   ]
  },
  {
   "cell_type": "code",
   "execution_count": null,
   "id": "4ed5627a-69f1-4f7f-8fba-3c42280cdd2c",
   "metadata": {},
   "outputs": [],
   "source": [
    "tem = []\n",
    "for word in s:\n",
    "    if word not in stopwords.words('arabic'):\n",
    "        tem.append(word)\n",
    "\n",
    "tem"
   ]
  },
  {
   "cell_type": "code",
   "execution_count": null,
   "id": "0c15c821-3af5-452a-a386-1f1e44d43eb3",
   "metadata": {},
   "outputs": [],
   "source": [
    "[word for word in s if word not in stopwords.words('arabic') ]"
   ]
  },
  {
   "cell_type": "code",
   "execution_count": null,
   "id": "2cdffb8d-a010-4f7c-8dae-fc504af15cca",
   "metadata": {},
   "outputs": [],
   "source": [
    "s= ' '.join(tem)\n",
    "s"
   ]
  },
  {
   "cell_type": "code",
   "execution_count": null,
   "id": "b821ea04-0ade-4301-8692-b794fec5e0e0",
   "metadata": {},
   "outputs": [],
   "source": [
    "from nltk.stem import ISRIStemmer\n",
    "LS= ISRIStemmer()"
   ]
  },
  {
   "cell_type": "code",
   "execution_count": 374,
   "id": "c241a7a1-2e81-46df-81c6-d28756da37b7",
   "metadata": {},
   "outputs": [
    {
     "data": {
      "text/plain": [
       "' الذى اعجبنى  شيء يعجبني والذى يعجبنى شيء ومقتراحات تحسينى هى شيء بالفعل'"
      ]
     },
     "execution_count": 374,
     "metadata": {},
     "output_type": "execute_result"
    }
   ],
   "source": [
    "s=LS.stem(s)\n",
    "s"
   ]
  },
  {
   "cell_type": "code",
   "execution_count": 376,
   "id": "fbdde4a3-bbab-4e0a-a121-381be2bb94ce",
   "metadata": {},
   "outputs": [],
   "source": [
    "from sklearn.feature_extraction.text import CountVectorizer "
   ]
  },
  {
   "cell_type": "code",
   "execution_count": 378,
   "id": "45e934eb-07dc-4024-ae38-717cfec418c9",
   "metadata": {},
   "outputs": [],
   "source": [
    "cv=CountVectorizer()"
   ]
  },
  {
   "cell_type": "code",
   "execution_count": 380,
   "id": "4b2c8e28-b274-47d2-98c5-b22d3127ed11",
   "metadata": {},
   "outputs": [
    {
     "data": {
      "text/plain": [
       "array([[0, 1, 0, 0, 0, 0, 0, 0, 0, 0],\n",
       "       [1, 0, 0, 0, 0, 0, 0, 0, 0, 0],\n",
       "       [0, 0, 0, 0, 1, 0, 0, 0, 0, 0],\n",
       "       [0, 0, 0, 0, 0, 0, 0, 0, 0, 1],\n",
       "       [0, 0, 0, 0, 0, 0, 1, 0, 0, 0],\n",
       "       [0, 0, 0, 0, 0, 0, 0, 0, 1, 0],\n",
       "       [0, 0, 0, 0, 1, 0, 0, 0, 0, 0],\n",
       "       [0, 0, 0, 0, 0, 0, 0, 1, 0, 0],\n",
       "       [0, 0, 0, 1, 0, 0, 0, 0, 0, 0],\n",
       "       [0, 0, 0, 0, 0, 1, 0, 0, 0, 0],\n",
       "       [0, 0, 0, 0, 1, 0, 0, 0, 0, 0],\n",
       "       [0, 0, 1, 0, 0, 0, 0, 0, 0, 0]], dtype=int64)"
      ]
     },
     "execution_count": 380,
     "metadata": {},
     "output_type": "execute_result"
    }
   ],
   "source": [
    "cv.fit_transform(s.split()).toarray()"
   ]
  },
  {
   "cell_type": "code",
   "execution_count": 391,
   "id": "1f0a7cb4-88b7-4584-a312-28f475ecac5b",
   "metadata": {},
   "outputs": [
    {
     "data": {
      "text/plain": [
       "['                                              ',\n",
       " '                                              ',\n",
       " '                                                         ',\n",
       " '                                              ',\n",
       " '                                              ',\n",
       " '                                                   ',\n",
       " '                                                  ',\n",
       " '                                              ',\n",
       " '                                              ',\n",
       " '                                              ',\n",
       " '                                              ',\n",
       " '                                              ',\n",
       " '                                              ',\n",
       " '                                              ',\n",
       " '                                             يء                       ',\n",
       " '                 يء                                 ',\n",
       " '                                                                                     ',\n",
       " '                                              ',\n",
       " '                                              ',\n",
       " '                                              ',\n",
       " '                                              ',\n",
       " '                                         يء                  ',\n",
       " '                                                               إ       ',\n",
       " '                                              ',\n",
       " '                                              ',\n",
       " '                                              ',\n",
       " '                                              ',\n",
       " '                                                           ',\n",
       " '                                              ',\n",
       " '                                                            ',\n",
       " '                                              ',\n",
       " '                                                                                    يء                                                                           ',\n",
       " '                                              ',\n",
       " '                                              ',\n",
       " '                                              ',\n",
       " '                                                      يء                                      ',\n",
       " '                                              ',\n",
       " '                                   ي،                                 يء                                         يء                                     ',\n",
       " '                                              ',\n",
       " '                                              ',\n",
       " '                                              ',\n",
       " '                                              ',\n",
       " '                                              ',\n",
       " '                                              ',\n",
       " '                                              ',\n",
       " '                                              ',\n",
       " '                                              ',\n",
       " '                                              ',\n",
       " '                                              ',\n",
       " '                                              ',\n",
       " '                                                                                       ',\n",
       " '                                   يء                       يء',\n",
       " '                                              ',\n",
       " '                                              ',\n",
       " '                                                                                                    ',\n",
       " '                 يء                        يء                       يء          ',\n",
       " '                                                         ',\n",
       " '                                              ',\n",
       " '                                                                                  ',\n",
       " '                                              ',\n",
       " '                                                                                                                                                                           ',\n",
       " '                                              ',\n",
       " '                                              ',\n",
       " '                                              ',\n",
       " '                                                                                                      ',\n",
       " '                                               يئ                      يئ',\n",
       " '                                      يء                       يء',\n",
       " '                                              ',\n",
       " '                                                              يء                       يء',\n",
       " '                                              ',\n",
       " '                                                                          ',\n",
       " '                                                   يء                  ',\n",
       " '                  يء                      يء                       يء      ']"
      ]
     },
     "execution_count": 391,
     "metadata": {},
     "output_type": "execute_result"
    }
   ],
   "source": [
    "corpus = []\n",
    "for i in range(len(df)):\n",
    "    s = re.sub('[ا-ى-ى]', \" \", df['ConcatenatedResponse'][i])\n",
    "    s = custom_split(s)\n",
    "    s = [word for word in s if word not in stopwords.words('arabic')]\n",
    "    s = ' '.join(s)\n",
    "    s = LS.stem(s)\n",
    "    corpus.append(s)\n",
    "\n",
    "\n",
    "corpus\n"
   ]
  },
  {
   "cell_type": "code",
   "execution_count": 419,
   "id": "33d11cd8-9ec4-43f8-9c59-4cbcb3976dc2",
   "metadata": {},
   "outputs": [
    {
     "data": {
      "text/plain": [
       "[' الذى اعجبنى  والذى يعجبنى  ومقتراحات تحسينى هى',\n",
       " ' الذى اعجبنى  والذى يعجبنى  ومقتراحات تحسينى هى',\n",
       " ' الذى اعجبنى شي والذى يعجبنى شي ومقتراحات تحسينى هى يوجد',\n",
       " ' الذى اعجبنى  والذى يعجبنى  ومقتراحات تحسينى هى',\n",
       " ' الذى اعجبنى  والذى يعجبنى  ومقتراحات تحسينى هى',\n",
       " ' الذى اعجبنى أعجبني والذى يعجبنى شئ ومقتراحات تحسينى هى',\n",
       " ' الذى اعجبنى اعجبني والذى يعجبنى  ومقتراحات تحسينى هى',\n",
       " ' الذى اعجبنى  والذى يعجبنى  ومقتراحات تحسينى هى',\n",
       " ' الذى اعجبنى  والذى يعجبنى  ومقتراحات تحسينى هى',\n",
       " ' الذى اعجبنى  والذى يعجبنى  ومقتراحات تحسينى هى',\n",
       " ' الذى اعجبنى  والذى يعجبنى  ومقتراحات تحسينى هى',\n",
       " ' الذى اعجبنى  والذى يعجبنى  ومقتراحات تحسينى هى',\n",
       " ' الذى اعجبنى  والذى يعجبنى  ومقتراحات تحسينى هى',\n",
       " ' الذى اعجبنى  والذى يعجبنى  ومقتراحات تحسينى هى',\n",
       " ' الذى اعجبنى معرفة تعاليم الدين والذى يعجبنى لاشيء ومقتراحات تحسينى هى يوجد',\n",
       " ' الذى اعجبنى شيء والذى يعجبنى  ومقتراحات تحسينى هى',\n",
       " ' الذى اعجبنى شرح الدكتور والمقرر وموضوعاته والذى يعجبنى يوجد ومقتراحات تحسينى هى يوجد',\n",
       " ' الذى اعجبنى  والذى يعجبنى  ومقتراحات تحسينى هى',\n",
       " ' الذى اعجبنى  والذى يعجبنى  ومقتراحات تحسينى هى',\n",
       " ' الذى اعجبنى  والذى يعجبنى  ومقتراحات تحسينى هى',\n",
       " ' الذى اعجبنى  والذى يعجبنى  ومقتراحات تحسينى هى',\n",
       " ' الذى اعجبنى المقرر والذى يعجبنى شيء ومقتراحات تحسينى هى',\n",
       " ' الذى اعجبنى شرح الدكتور والذى يعجبنى يوجد ومقتراحات تحسينى هى إضافة أمثلة',\n",
       " ' الذى اعجبنى  والذى يعجبنى  ومقتراحات تحسينى هى',\n",
       " ' الذى اعجبنى  والذى يعجبنى  ومقتراحات تحسينى هى',\n",
       " ' الذى اعجبنى  والذى يعجبنى  ومقتراحات تحسينى هى',\n",
       " ' الذى اعجبنى  والذى يعجبنى  ومقتراحات تحسينى هى',\n",
       " ' الذى اعجبنى مقرر سهل بسيط والذى يعجبنى  ومقتراحات تحسينى هى',\n",
       " ' الذى اعجبنى  والذى يعجبنى  ومقتراحات تحسينى هى',\n",
       " ' الذى اعجبنى المقرر بأكمله والذى يعجبنى شئ ومقتراحات تحسينى هى',\n",
       " ' الذى اعجبنى  والذى يعجبنى  ومقتراحات تحسينى هى',\n",
       " ' الذى اعجبنى مهتم بتعليمنا المعاملات الدينية يسع المسلم جهله والذى يعجبنى طويل الشيء ومقتراحات تحسينى هى تقسيم المقرر اكثر فصل دراسي لضمان فهمه ومحاولة تطبيقة جيدا',\n",
       " ' الذى اعجبنى  والذى يعجبنى  ومقتراحات تحسينى هى',\n",
       " ' الذى اعجبنى  والذى يعجبنى  ومقتراحات تحسينى هى',\n",
       " ' الذى اعجبنى  والذى يعجبنى  ومقتراحات تحسينى هى',\n",
       " ' الذى اعجبنى علمنا أحكام معاملاتنا والذى يعجبنى يوجد شيء يعجبني ومقتراحات تحسينى هى اقتراح',\n",
       " ' الذى اعجبنى  والذى يعجبنى  ومقتراحات تحسينى هى',\n",
       " ' الذى اعجبنى أفضل المقررات أعجبتني، طريقة عرض الدكتور وشرحه والمقرر مليء بالمعرفة تنفع دنياي وآخرتي والذى يعجبنى شيء ومقتراحات تحسينى هى مشاكل بالمرة',\n",
       " ' الذى اعجبنى  والذى يعجبنى  ومقتراحات تحسينى هى',\n",
       " ' الذى اعجبنى  والذى يعجبنى  ومقتراحات تحسينى هى',\n",
       " ' الذى اعجبنى  والذى يعجبنى  ومقتراحات تحسينى هى',\n",
       " ' الذى اعجبنى  والذى يعجبنى  ومقتراحات تحسينى هى',\n",
       " ' الذى اعجبنى  والذى يعجبنى  ومقتراحات تحسينى هى',\n",
       " ' الذى اعجبنى  والذى يعجبنى  ومقتراحات تحسينى هى',\n",
       " ' الذى اعجبنى  والذى يعجبنى  ومقتراحات تحسينى هى',\n",
       " ' الذى اعجبنى  والذى يعجبنى  ومقتراحات تحسينى هى',\n",
       " ' الذى اعجبنى  والذى يعجبنى  ومقتراحات تحسينى هى',\n",
       " ' الذى اعجبنى  والذى يعجبنى  ومقتراحات تحسينى هى',\n",
       " ' الذى اعجبنى  والذى يعجبنى  ومقتراحات تحسينى هى',\n",
       " ' الذى اعجبنى  والذى يعجبنى  ومقتراحات تحسينى هى',\n",
       " ' الذى اعجبنى  والذى يعجبنى الدكتور بيتدخل يعنيه وبيقيمنا لبسنا وشكلنا ومقتراحات تحسينى هى',\n",
       " ' الذى اعجبنى كله والذى يعجبنى شيء ومقتراحات تحسينى هى شيء',\n",
       " ' الذى اعجبنى  والذى يعجبنى  ومقتراحات تحسينى هى',\n",
       " ' الذى اعجبنى  والذى يعجبنى  ومقتراحات تحسينى هى',\n",
       " ' الذى اعجبنى فوائد كثيرة الحياة العلميه والعمليه أهم المقررات والذى يعجبنى لايوجد ومقتراحات تحسينى هى يوجد',\n",
       " ' الذى اعجبنى شيء جيد والذى يعجبنى يوجد شيء ومقتراحات تحسينى هى شيء أتم صورة',\n",
       " ' الذى اعجبنى اعجبني المقرر والذى يعجبنى  ومقتراحات تحسينى هى',\n",
       " ' الذى اعجبنى  والذى يعجبنى  ومقتراحات تحسينى هى',\n",
       " ' الذى اعجبنى التعرف أصول ديني واستخدام تعلمته حياتي والذى يعجبنى  ومقتراحات تحسينى هى',\n",
       " ' الذى اعجبنى  والذى يعجبنى  ومقتراحات تحسينى هى',\n",
       " ' الذى اعجبنى موضوعات المقرر جميعها فى غاية الأهمية وتساعدنا فى التعرف المعملا تالتة نستخدمها فى حياتنا الاساسية والذى يعجبنى صعوبة الألفاظ فى المقرر ومقتراحات تحسينى هى تقليل المقرر',\n",
       " ' الذى اعجبنى  والذى يعجبنى  ومقتراحات تحسينى هى',\n",
       " ' الذى اعجبنى  والذى يعجبنى  ومقتراحات تحسينى هى',\n",
       " ' الذى اعجبنى  والذى يعجبنى  ومقتراحات تحسينى هى',\n",
       " ' الذى اعجبنى أعجبني المعلومات المفيدة معاملة الآخرين مادة ممتعة والذى يعجبنى شى ومقتراحات تحسينى هى شى',\n",
       " ' الذى اعجبنى يمدنا بمعلومات مفيدة والذى يعجبنى لاشيئ ومقتراحات تحسينى هى لاشيئ',\n",
       " ' الذى اعجبنى محتواه والذى يعجبنى شيء ومقتراحات تحسينى هى شيء',\n",
       " ' الذى اعجبنى  والذى يعجبنى  ومقتراحات تحسينى هى',\n",
       " ' الذى اعجبنى جيد مستوفي جدا للماده العلميه للدارس والذى يعجبنى شيء ومقتراحات تحسينى هى شيء',\n",
       " ' الذى اعجبنى  والذى يعجبنى  ومقتراحات تحسينى هى',\n",
       " ' الذى اعجبنى شرح الدكتور المبسط والذى يعجبنى يوجد ومقتراحات تحسينى هى يوجد',\n",
       " ' الذى اعجبنى شرح الدكتور واسلوبه والذى يعجبنى شيء ومقتراحات تحسينى هى',\n",
       " ' الذى اعجبنى  شيء يعجبني والذى يعجبنى شيء ومقتراحات تحسينى هى شيء بالفعل']"
      ]
     },
     "execution_count": 419,
     "metadata": {},
     "output_type": "execute_result"
    }
   ],
   "source": [
    "corpus = []\n",
    "for i in range(len(df)):\n",
    "    s = df['ConcatenatedResponse'][i]\n",
    "    \n",
    "    # Step 1: Replace specific characters\n",
    "    s = re.sub('[ - ^]', ' ', s)  # Removed ا and ى from the pattern\n",
    "    # Step 2: Custom split\n",
    "    s = custom_split(s)\n",
    "    # Step 3: Remove stopwords\n",
    "    s = [word for word in s if word not in stopwords.words('arabic')]\n",
    "    # Step 4: Join words back into a string\n",
    "    s = ' '.join(s)\n",
    "    # Step 5: Stem the words\n",
    "    s = stemmer.stem(s)\n",
    "    \n",
    "    # Append to corpus\n",
    "    corpus.append(s)\n",
    "\n",
    "corpus"
   ]
  },
  {
   "cell_type": "code",
   "execution_count": 421,
   "id": "742d9326-f956-4942-9af2-2c41e5b235c7",
   "metadata": {},
   "outputs": [],
   "source": [
    "cv=CountVectorizer()"
   ]
  },
  {
   "cell_type": "code",
   "execution_count": 431,
   "id": "05e664ff-ba62-4257-8de5-53c0a5db1422",
   "metadata": {},
   "outputs": [
    {
     "data": {
      "text/plain": [
       "(73, 119)"
      ]
     },
     "execution_count": 431,
     "metadata": {},
     "output_type": "execute_result"
    }
   ],
   "source": [
    "cv.fit_transform(corpus).toarray().shape"
   ]
  },
  {
   "cell_type": "code",
   "execution_count": 435,
   "id": "59d3c968-e046-4d26-97f5-89482ca263ee",
   "metadata": {},
   "outputs": [
    {
     "data": {
      "text/plain": [
       "array([[0, 0, 0, ..., 0, 0, 0],\n",
       "       [0, 0, 0, ..., 0, 0, 0],\n",
       "       [0, 0, 0, ..., 0, 0, 1],\n",
       "       ...,\n",
       "       [0, 0, 0, ..., 0, 0, 2],\n",
       "       [0, 0, 0, ..., 0, 0, 0],\n",
       "       [0, 0, 0, ..., 0, 0, 0]], dtype=int64)"
      ]
     },
     "execution_count": 435,
     "metadata": {},
     "output_type": "execute_result"
    }
   ],
   "source": [
    "x=cv.fit_transform(corpus).toarray()\n",
    "x\n"
   ]
  },
  {
   "cell_type": "code",
   "execution_count": 439,
   "id": "2de41d58-acea-42f0-b969-47a3afaeeaf2",
   "metadata": {},
   "outputs": [
    {
     "data": {
      "text/html": [
       "<div>\n",
       "<style scoped>\n",
       "    .dataframe tbody tr th:only-of-type {\n",
       "        vertical-align: middle;\n",
       "    }\n",
       "\n",
       "    .dataframe tbody tr th {\n",
       "        vertical-align: top;\n",
       "    }\n",
       "\n",
       "    .dataframe thead th {\n",
       "        text-align: right;\n",
       "    }\n",
       "</style>\n",
       "<table border=\"1\" class=\"dataframe\">\n",
       "  <thead>\n",
       "    <tr style=\"text-align: right;\">\n",
       "      <th></th>\n",
       "      <th>S_ID</th>\n",
       "      <th>ConcatenatedResponse</th>\n",
       "      <th>Sentiment</th>\n",
       "    </tr>\n",
       "  </thead>\n",
       "  <tbody>\n",
       "    <tr>\n",
       "      <th>0</th>\n",
       "      <td>1</td>\n",
       "      <td>الذى اعجبنى  والذى لم يعجبنى  ومقتراحات تحسين...</td>\n",
       "      <td>محايد</td>\n",
       "    </tr>\n",
       "    <tr>\n",
       "      <th>1</th>\n",
       "      <td>39</td>\n",
       "      <td>الذى اعجبنى  والذى لم يعجبنى  ومقتراحات تحسين...</td>\n",
       "      <td>محايد</td>\n",
       "    </tr>\n",
       "    <tr>\n",
       "      <th>2</th>\n",
       "      <td>51</td>\n",
       "      <td>الذى اعجبنى كل شي والذى لم يعجبنى لا شي ومقتر...</td>\n",
       "      <td>ايجابى</td>\n",
       "    </tr>\n",
       "    <tr>\n",
       "      <th>3</th>\n",
       "      <td>85</td>\n",
       "      <td>الذى اعجبنى  والذى لم يعجبنى  ومقتراحات تحسين...</td>\n",
       "      <td>محايد</td>\n",
       "    </tr>\n",
       "    <tr>\n",
       "      <th>4</th>\n",
       "      <td>114</td>\n",
       "      <td>الذى اعجبنى  والذى لم يعجبنى  ومقتراحات تحسين...</td>\n",
       "      <td>محايد</td>\n",
       "    </tr>\n",
       "    <tr>\n",
       "      <th>...</th>\n",
       "      <td>...</td>\n",
       "      <td>...</td>\n",
       "      <td>...</td>\n",
       "    </tr>\n",
       "    <tr>\n",
       "      <th>68</th>\n",
       "      <td>2255</td>\n",
       "      <td>الذى اعجبنى جيد مستوفي جدا للماده العلميه للد...</td>\n",
       "      <td>ايجابى</td>\n",
       "    </tr>\n",
       "    <tr>\n",
       "      <th>69</th>\n",
       "      <td>2256</td>\n",
       "      <td>الذى اعجبنى  والذى لم يعجبنى  ومقتراحات تحسين...</td>\n",
       "      <td>محايد</td>\n",
       "    </tr>\n",
       "    <tr>\n",
       "      <th>70</th>\n",
       "      <td>2257</td>\n",
       "      <td>الذى اعجبنى شرح الدكتور المبسط والذى لم يعجبن...</td>\n",
       "      <td>ايجابى</td>\n",
       "    </tr>\n",
       "    <tr>\n",
       "      <th>71</th>\n",
       "      <td>2258</td>\n",
       "      <td>الذى اعجبنى شرح الدكتور واسلوبه والذى لم يعجب...</td>\n",
       "      <td>ايجابى</td>\n",
       "    </tr>\n",
       "    <tr>\n",
       "      <th>72</th>\n",
       "      <td>2260</td>\n",
       "      <td>الذى اعجبنى  كل شيء يعجبني والذى لم يعجبنى لا...</td>\n",
       "      <td>ايجابى</td>\n",
       "    </tr>\n",
       "  </tbody>\n",
       "</table>\n",
       "<p>73 rows × 3 columns</p>\n",
       "</div>"
      ],
      "text/plain": [
       "    S_ID                               ConcatenatedResponse Sentiment\n",
       "0      1   الذى اعجبنى  والذى لم يعجبنى  ومقتراحات تحسين...    محايد \n",
       "1     39   الذى اعجبنى  والذى لم يعجبنى  ومقتراحات تحسين...    محايد \n",
       "2     51   الذى اعجبنى كل شي والذى لم يعجبنى لا شي ومقتر...    ايجابى\n",
       "3     85   الذى اعجبنى  والذى لم يعجبنى  ومقتراحات تحسين...    محايد \n",
       "4    114   الذى اعجبنى  والذى لم يعجبنى  ومقتراحات تحسين...    محايد \n",
       "..   ...                                                ...       ...\n",
       "68  2255   الذى اعجبنى جيد مستوفي جدا للماده العلميه للد...    ايجابى\n",
       "69  2256   الذى اعجبنى  والذى لم يعجبنى  ومقتراحات تحسين...    محايد \n",
       "70  2257   الذى اعجبنى شرح الدكتور المبسط والذى لم يعجبن...    ايجابى\n",
       "71  2258   الذى اعجبنى شرح الدكتور واسلوبه والذى لم يعجب...    ايجابى\n",
       "72  2260   الذى اعجبنى  كل شيء يعجبني والذى لم يعجبنى لا...   ايجابى \n",
       "\n",
       "[73 rows x 3 columns]"
      ]
     },
     "execution_count": 439,
     "metadata": {},
     "output_type": "execute_result"
    }
   ],
   "source": [
    "# Load the Excel file\n",
    "file_path = r'C:/Users/Work/OneDrive/Desktop/Document2 (2).xlsx'\n",
    "sentiment = pd.read_excel(file_path)\n",
    "sentiment.columns = ['S_ID', 'ConcatenatedResponse','Sentiment']\n",
    "sentiment "
   ]
  },
  {
   "cell_type": "code",
   "execution_count": 21,
   "id": "b2cc952d-cd97-454c-b340-ea0718293ee2",
   "metadata": {},
   "outputs": [],
   "source": [
    "def summarize_text(text):\n",
    "    try:\n",
    "        inputs = tokenizer_sum.encode(\"summarize: \" + text, return_tensors='pt', max_length=512, truncation=True).to(device)\n",
    "        summary_ids = model_sum.generate(inputs, max_length=150, min_length=40, length_penalty=2.0, num_beams=4, early_stopping=True)\n",
    "        summary = tokenizer_sum.decode(summary_ids[0], skip_special_tokens=True)\n",
    "    except Exception as e:\n",
    "        print(f\"Error summarizing text: {text}, error: {e}\")\n",
    "        summary = \"Error in summarization\"\n",
    "    return summary"
   ]
  },
  {
   "cell_type": "code",
   "execution_count": 447,
   "id": "a5a50c95-c605-44cd-bf28-2f741bc782c1",
   "metadata": {},
   "outputs": [
    {
     "data": {
      "text/plain": [
       "0      محايد \n",
       "1      محايد \n",
       "2      ايجابى\n",
       "3      محايد \n",
       "4      محايد \n",
       "       ...   \n",
       "68     ايجابى\n",
       "69     محايد \n",
       "70     ايجابى\n",
       "71     ايجابى\n",
       "72    ايجابى \n",
       "Name: Sentiment, Length: 73, dtype: object"
      ]
     },
     "execution_count": 447,
     "metadata": {},
     "output_type": "execute_result"
    }
   ],
   "source": [
    "y=sentiment['Sentiment']\n",
    "y"
   ]
  },
  {
   "cell_type": "code",
   "execution_count": null,
   "id": "aacc8e6b-9bd3-48b5-a2ca-d8336066b79d",
   "metadata": {},
   "outputs": [],
   "source": [
    "from sklearn.model_selection import train_test_split\n"
   ]
  },
  {
   "cell_type": "code",
   "execution_count": 451,
   "id": "e702429f-4394-47b3-815a-37abc773ee21",
   "metadata": {},
   "outputs": [],
   "source": [
    "x_train,x_test,y_train,y_test = train_test_split(x,y,test_size=0.33, random_state=42)"
   ]
  },
  {
   "cell_type": "code",
   "execution_count": 453,
   "id": "e3643da6-6cb3-4617-9e20-8f9c0fd128dc",
   "metadata": {},
   "outputs": [
    {
     "data": {
      "text/plain": [
       "(48, 119)"
      ]
     },
     "execution_count": 453,
     "metadata": {},
     "output_type": "execute_result"
    }
   ],
   "source": [
    "x_train.shape"
   ]
  },
  {
   "cell_type": "code",
   "execution_count": 455,
   "id": "7b638a80-0253-4bbb-bcf1-86ff2d8834b8",
   "metadata": {},
   "outputs": [
    {
     "data": {
      "text/plain": [
       "(25, 119)"
      ]
     },
     "execution_count": 455,
     "metadata": {},
     "output_type": "execute_result"
    }
   ],
   "source": [
    "x_test.shape"
   ]
  },
  {
   "cell_type": "code",
   "execution_count": null,
   "id": "a02c86da-be1f-451c-a132-14375ce565fe",
   "metadata": {},
   "outputs": [],
   "source": []
  },
  {
   "cell_type": "code",
   "execution_count": 489,
   "id": "18efc58c-60e7-433a-97b0-89f392d4a5d0",
   "metadata": {},
   "outputs": [],
   "source": [
    "# Building the model\n",
    "from sklearn.naive_bayes import GaussianNB"
   ]
  },
  {
   "cell_type": "code",
   "execution_count": 491,
   "id": "f20f0f60-70e0-46fd-b127-36834b600f27",
   "metadata": {},
   "outputs": [],
   "source": [
    "clf=MultinomialNB()"
   ]
  },
  {
   "cell_type": "code",
   "execution_count": 493,
   "id": "6ffb4644-422b-41ef-834b-22d1e317f49c",
   "metadata": {},
   "outputs": [
    {
     "data": {
      "text/html": [
       "<style>#sk-container-id-2 {\n",
       "  /* Definition of color scheme common for light and dark mode */\n",
       "  --sklearn-color-text: black;\n",
       "  --sklearn-color-line: gray;\n",
       "  /* Definition of color scheme for unfitted estimators */\n",
       "  --sklearn-color-unfitted-level-0: #fff5e6;\n",
       "  --sklearn-color-unfitted-level-1: #f6e4d2;\n",
       "  --sklearn-color-unfitted-level-2: #ffe0b3;\n",
       "  --sklearn-color-unfitted-level-3: chocolate;\n",
       "  /* Definition of color scheme for fitted estimators */\n",
       "  --sklearn-color-fitted-level-0: #f0f8ff;\n",
       "  --sklearn-color-fitted-level-1: #d4ebff;\n",
       "  --sklearn-color-fitted-level-2: #b3dbfd;\n",
       "  --sklearn-color-fitted-level-3: cornflowerblue;\n",
       "\n",
       "  /* Specific color for light theme */\n",
       "  --sklearn-color-text-on-default-background: var(--sg-text-color, var(--theme-code-foreground, var(--jp-content-font-color1, black)));\n",
       "  --sklearn-color-background: var(--sg-background-color, var(--theme-background, var(--jp-layout-color0, white)));\n",
       "  --sklearn-color-border-box: var(--sg-text-color, var(--theme-code-foreground, var(--jp-content-font-color1, black)));\n",
       "  --sklearn-color-icon: #696969;\n",
       "\n",
       "  @media (prefers-color-scheme: dark) {\n",
       "    /* Redefinition of color scheme for dark theme */\n",
       "    --sklearn-color-text-on-default-background: var(--sg-text-color, var(--theme-code-foreground, var(--jp-content-font-color1, white)));\n",
       "    --sklearn-color-background: var(--sg-background-color, var(--theme-background, var(--jp-layout-color0, #111)));\n",
       "    --sklearn-color-border-box: var(--sg-text-color, var(--theme-code-foreground, var(--jp-content-font-color1, white)));\n",
       "    --sklearn-color-icon: #878787;\n",
       "  }\n",
       "}\n",
       "\n",
       "#sk-container-id-2 {\n",
       "  color: var(--sklearn-color-text);\n",
       "}\n",
       "\n",
       "#sk-container-id-2 pre {\n",
       "  padding: 0;\n",
       "}\n",
       "\n",
       "#sk-container-id-2 input.sk-hidden--visually {\n",
       "  border: 0;\n",
       "  clip: rect(1px 1px 1px 1px);\n",
       "  clip: rect(1px, 1px, 1px, 1px);\n",
       "  height: 1px;\n",
       "  margin: -1px;\n",
       "  overflow: hidden;\n",
       "  padding: 0;\n",
       "  position: absolute;\n",
       "  width: 1px;\n",
       "}\n",
       "\n",
       "#sk-container-id-2 div.sk-dashed-wrapped {\n",
       "  border: 1px dashed var(--sklearn-color-line);\n",
       "  margin: 0 0.4em 0.5em 0.4em;\n",
       "  box-sizing: border-box;\n",
       "  padding-bottom: 0.4em;\n",
       "  background-color: var(--sklearn-color-background);\n",
       "}\n",
       "\n",
       "#sk-container-id-2 div.sk-container {\n",
       "  /* jupyter's `normalize.less` sets `[hidden] { display: none; }`\n",
       "     but bootstrap.min.css set `[hidden] { display: none !important; }`\n",
       "     so we also need the `!important` here to be able to override the\n",
       "     default hidden behavior on the sphinx rendered scikit-learn.org.\n",
       "     See: https://github.com/scikit-learn/scikit-learn/issues/21755 */\n",
       "  display: inline-block !important;\n",
       "  position: relative;\n",
       "}\n",
       "\n",
       "#sk-container-id-2 div.sk-text-repr-fallback {\n",
       "  display: none;\n",
       "}\n",
       "\n",
       "div.sk-parallel-item,\n",
       "div.sk-serial,\n",
       "div.sk-item {\n",
       "  /* draw centered vertical line to link estimators */\n",
       "  background-image: linear-gradient(var(--sklearn-color-text-on-default-background), var(--sklearn-color-text-on-default-background));\n",
       "  background-size: 2px 100%;\n",
       "  background-repeat: no-repeat;\n",
       "  background-position: center center;\n",
       "}\n",
       "\n",
       "/* Parallel-specific style estimator block */\n",
       "\n",
       "#sk-container-id-2 div.sk-parallel-item::after {\n",
       "  content: \"\";\n",
       "  width: 100%;\n",
       "  border-bottom: 2px solid var(--sklearn-color-text-on-default-background);\n",
       "  flex-grow: 1;\n",
       "}\n",
       "\n",
       "#sk-container-id-2 div.sk-parallel {\n",
       "  display: flex;\n",
       "  align-items: stretch;\n",
       "  justify-content: center;\n",
       "  background-color: var(--sklearn-color-background);\n",
       "  position: relative;\n",
       "}\n",
       "\n",
       "#sk-container-id-2 div.sk-parallel-item {\n",
       "  display: flex;\n",
       "  flex-direction: column;\n",
       "}\n",
       "\n",
       "#sk-container-id-2 div.sk-parallel-item:first-child::after {\n",
       "  align-self: flex-end;\n",
       "  width: 50%;\n",
       "}\n",
       "\n",
       "#sk-container-id-2 div.sk-parallel-item:last-child::after {\n",
       "  align-self: flex-start;\n",
       "  width: 50%;\n",
       "}\n",
       "\n",
       "#sk-container-id-2 div.sk-parallel-item:only-child::after {\n",
       "  width: 0;\n",
       "}\n",
       "\n",
       "/* Serial-specific style estimator block */\n",
       "\n",
       "#sk-container-id-2 div.sk-serial {\n",
       "  display: flex;\n",
       "  flex-direction: column;\n",
       "  align-items: center;\n",
       "  background-color: var(--sklearn-color-background);\n",
       "  padding-right: 1em;\n",
       "  padding-left: 1em;\n",
       "}\n",
       "\n",
       "\n",
       "/* Toggleable style: style used for estimator/Pipeline/ColumnTransformer box that is\n",
       "clickable and can be expanded/collapsed.\n",
       "- Pipeline and ColumnTransformer use this feature and define the default style\n",
       "- Estimators will overwrite some part of the style using the `sk-estimator` class\n",
       "*/\n",
       "\n",
       "/* Pipeline and ColumnTransformer style (default) */\n",
       "\n",
       "#sk-container-id-2 div.sk-toggleable {\n",
       "  /* Default theme specific background. It is overwritten whether we have a\n",
       "  specific estimator or a Pipeline/ColumnTransformer */\n",
       "  background-color: var(--sklearn-color-background);\n",
       "}\n",
       "\n",
       "/* Toggleable label */\n",
       "#sk-container-id-2 label.sk-toggleable__label {\n",
       "  cursor: pointer;\n",
       "  display: block;\n",
       "  width: 100%;\n",
       "  margin-bottom: 0;\n",
       "  padding: 0.5em;\n",
       "  box-sizing: border-box;\n",
       "  text-align: center;\n",
       "}\n",
       "\n",
       "#sk-container-id-2 label.sk-toggleable__label-arrow:before {\n",
       "  /* Arrow on the left of the label */\n",
       "  content: \"▸\";\n",
       "  float: left;\n",
       "  margin-right: 0.25em;\n",
       "  color: var(--sklearn-color-icon);\n",
       "}\n",
       "\n",
       "#sk-container-id-2 label.sk-toggleable__label-arrow:hover:before {\n",
       "  color: var(--sklearn-color-text);\n",
       "}\n",
       "\n",
       "/* Toggleable content - dropdown */\n",
       "\n",
       "#sk-container-id-2 div.sk-toggleable__content {\n",
       "  max-height: 0;\n",
       "  max-width: 0;\n",
       "  overflow: hidden;\n",
       "  text-align: left;\n",
       "  /* unfitted */\n",
       "  background-color: var(--sklearn-color-unfitted-level-0);\n",
       "}\n",
       "\n",
       "#sk-container-id-2 div.sk-toggleable__content.fitted {\n",
       "  /* fitted */\n",
       "  background-color: var(--sklearn-color-fitted-level-0);\n",
       "}\n",
       "\n",
       "#sk-container-id-2 div.sk-toggleable__content pre {\n",
       "  margin: 0.2em;\n",
       "  border-radius: 0.25em;\n",
       "  color: var(--sklearn-color-text);\n",
       "  /* unfitted */\n",
       "  background-color: var(--sklearn-color-unfitted-level-0);\n",
       "}\n",
       "\n",
       "#sk-container-id-2 div.sk-toggleable__content.fitted pre {\n",
       "  /* unfitted */\n",
       "  background-color: var(--sklearn-color-fitted-level-0);\n",
       "}\n",
       "\n",
       "#sk-container-id-2 input.sk-toggleable__control:checked~div.sk-toggleable__content {\n",
       "  /* Expand drop-down */\n",
       "  max-height: 200px;\n",
       "  max-width: 100%;\n",
       "  overflow: auto;\n",
       "}\n",
       "\n",
       "#sk-container-id-2 input.sk-toggleable__control:checked~label.sk-toggleable__label-arrow:before {\n",
       "  content: \"▾\";\n",
       "}\n",
       "\n",
       "/* Pipeline/ColumnTransformer-specific style */\n",
       "\n",
       "#sk-container-id-2 div.sk-label input.sk-toggleable__control:checked~label.sk-toggleable__label {\n",
       "  color: var(--sklearn-color-text);\n",
       "  background-color: var(--sklearn-color-unfitted-level-2);\n",
       "}\n",
       "\n",
       "#sk-container-id-2 div.sk-label.fitted input.sk-toggleable__control:checked~label.sk-toggleable__label {\n",
       "  background-color: var(--sklearn-color-fitted-level-2);\n",
       "}\n",
       "\n",
       "/* Estimator-specific style */\n",
       "\n",
       "/* Colorize estimator box */\n",
       "#sk-container-id-2 div.sk-estimator input.sk-toggleable__control:checked~label.sk-toggleable__label {\n",
       "  /* unfitted */\n",
       "  background-color: var(--sklearn-color-unfitted-level-2);\n",
       "}\n",
       "\n",
       "#sk-container-id-2 div.sk-estimator.fitted input.sk-toggleable__control:checked~label.sk-toggleable__label {\n",
       "  /* fitted */\n",
       "  background-color: var(--sklearn-color-fitted-level-2);\n",
       "}\n",
       "\n",
       "#sk-container-id-2 div.sk-label label.sk-toggleable__label,\n",
       "#sk-container-id-2 div.sk-label label {\n",
       "  /* The background is the default theme color */\n",
       "  color: var(--sklearn-color-text-on-default-background);\n",
       "}\n",
       "\n",
       "/* On hover, darken the color of the background */\n",
       "#sk-container-id-2 div.sk-label:hover label.sk-toggleable__label {\n",
       "  color: var(--sklearn-color-text);\n",
       "  background-color: var(--sklearn-color-unfitted-level-2);\n",
       "}\n",
       "\n",
       "/* Label box, darken color on hover, fitted */\n",
       "#sk-container-id-2 div.sk-label.fitted:hover label.sk-toggleable__label.fitted {\n",
       "  color: var(--sklearn-color-text);\n",
       "  background-color: var(--sklearn-color-fitted-level-2);\n",
       "}\n",
       "\n",
       "/* Estimator label */\n",
       "\n",
       "#sk-container-id-2 div.sk-label label {\n",
       "  font-family: monospace;\n",
       "  font-weight: bold;\n",
       "  display: inline-block;\n",
       "  line-height: 1.2em;\n",
       "}\n",
       "\n",
       "#sk-container-id-2 div.sk-label-container {\n",
       "  text-align: center;\n",
       "}\n",
       "\n",
       "/* Estimator-specific */\n",
       "#sk-container-id-2 div.sk-estimator {\n",
       "  font-family: monospace;\n",
       "  border: 1px dotted var(--sklearn-color-border-box);\n",
       "  border-radius: 0.25em;\n",
       "  box-sizing: border-box;\n",
       "  margin-bottom: 0.5em;\n",
       "  /* unfitted */\n",
       "  background-color: var(--sklearn-color-unfitted-level-0);\n",
       "}\n",
       "\n",
       "#sk-container-id-2 div.sk-estimator.fitted {\n",
       "  /* fitted */\n",
       "  background-color: var(--sklearn-color-fitted-level-0);\n",
       "}\n",
       "\n",
       "/* on hover */\n",
       "#sk-container-id-2 div.sk-estimator:hover {\n",
       "  /* unfitted */\n",
       "  background-color: var(--sklearn-color-unfitted-level-2);\n",
       "}\n",
       "\n",
       "#sk-container-id-2 div.sk-estimator.fitted:hover {\n",
       "  /* fitted */\n",
       "  background-color: var(--sklearn-color-fitted-level-2);\n",
       "}\n",
       "\n",
       "/* Specification for estimator info (e.g. \"i\" and \"?\") */\n",
       "\n",
       "/* Common style for \"i\" and \"?\" */\n",
       "\n",
       ".sk-estimator-doc-link,\n",
       "a:link.sk-estimator-doc-link,\n",
       "a:visited.sk-estimator-doc-link {\n",
       "  float: right;\n",
       "  font-size: smaller;\n",
       "  line-height: 1em;\n",
       "  font-family: monospace;\n",
       "  background-color: var(--sklearn-color-background);\n",
       "  border-radius: 1em;\n",
       "  height: 1em;\n",
       "  width: 1em;\n",
       "  text-decoration: none !important;\n",
       "  margin-left: 1ex;\n",
       "  /* unfitted */\n",
       "  border: var(--sklearn-color-unfitted-level-1) 1pt solid;\n",
       "  color: var(--sklearn-color-unfitted-level-1);\n",
       "}\n",
       "\n",
       ".sk-estimator-doc-link.fitted,\n",
       "a:link.sk-estimator-doc-link.fitted,\n",
       "a:visited.sk-estimator-doc-link.fitted {\n",
       "  /* fitted */\n",
       "  border: var(--sklearn-color-fitted-level-1) 1pt solid;\n",
       "  color: var(--sklearn-color-fitted-level-1);\n",
       "}\n",
       "\n",
       "/* On hover */\n",
       "div.sk-estimator:hover .sk-estimator-doc-link:hover,\n",
       ".sk-estimator-doc-link:hover,\n",
       "div.sk-label-container:hover .sk-estimator-doc-link:hover,\n",
       ".sk-estimator-doc-link:hover {\n",
       "  /* unfitted */\n",
       "  background-color: var(--sklearn-color-unfitted-level-3);\n",
       "  color: var(--sklearn-color-background);\n",
       "  text-decoration: none;\n",
       "}\n",
       "\n",
       "div.sk-estimator.fitted:hover .sk-estimator-doc-link.fitted:hover,\n",
       ".sk-estimator-doc-link.fitted:hover,\n",
       "div.sk-label-container:hover .sk-estimator-doc-link.fitted:hover,\n",
       ".sk-estimator-doc-link.fitted:hover {\n",
       "  /* fitted */\n",
       "  background-color: var(--sklearn-color-fitted-level-3);\n",
       "  color: var(--sklearn-color-background);\n",
       "  text-decoration: none;\n",
       "}\n",
       "\n",
       "/* Span, style for the box shown on hovering the info icon */\n",
       ".sk-estimator-doc-link span {\n",
       "  display: none;\n",
       "  z-index: 9999;\n",
       "  position: relative;\n",
       "  font-weight: normal;\n",
       "  right: .2ex;\n",
       "  padding: .5ex;\n",
       "  margin: .5ex;\n",
       "  width: min-content;\n",
       "  min-width: 20ex;\n",
       "  max-width: 50ex;\n",
       "  color: var(--sklearn-color-text);\n",
       "  box-shadow: 2pt 2pt 4pt #999;\n",
       "  /* unfitted */\n",
       "  background: var(--sklearn-color-unfitted-level-0);\n",
       "  border: .5pt solid var(--sklearn-color-unfitted-level-3);\n",
       "}\n",
       "\n",
       ".sk-estimator-doc-link.fitted span {\n",
       "  /* fitted */\n",
       "  background: var(--sklearn-color-fitted-level-0);\n",
       "  border: var(--sklearn-color-fitted-level-3);\n",
       "}\n",
       "\n",
       ".sk-estimator-doc-link:hover span {\n",
       "  display: block;\n",
       "}\n",
       "\n",
       "/* \"?\"-specific style due to the `<a>` HTML tag */\n",
       "\n",
       "#sk-container-id-2 a.estimator_doc_link {\n",
       "  float: right;\n",
       "  font-size: 1rem;\n",
       "  line-height: 1em;\n",
       "  font-family: monospace;\n",
       "  background-color: var(--sklearn-color-background);\n",
       "  border-radius: 1rem;\n",
       "  height: 1rem;\n",
       "  width: 1rem;\n",
       "  text-decoration: none;\n",
       "  /* unfitted */\n",
       "  color: var(--sklearn-color-unfitted-level-1);\n",
       "  border: var(--sklearn-color-unfitted-level-1) 1pt solid;\n",
       "}\n",
       "\n",
       "#sk-container-id-2 a.estimator_doc_link.fitted {\n",
       "  /* fitted */\n",
       "  border: var(--sklearn-color-fitted-level-1) 1pt solid;\n",
       "  color: var(--sklearn-color-fitted-level-1);\n",
       "}\n",
       "\n",
       "/* On hover */\n",
       "#sk-container-id-2 a.estimator_doc_link:hover {\n",
       "  /* unfitted */\n",
       "  background-color: var(--sklearn-color-unfitted-level-3);\n",
       "  color: var(--sklearn-color-background);\n",
       "  text-decoration: none;\n",
       "}\n",
       "\n",
       "#sk-container-id-2 a.estimator_doc_link.fitted:hover {\n",
       "  /* fitted */\n",
       "  background-color: var(--sklearn-color-fitted-level-3);\n",
       "}\n",
       "</style><div id=\"sk-container-id-2\" class=\"sk-top-container\"><div class=\"sk-text-repr-fallback\"><pre>MultinomialNB()</pre><b>In a Jupyter environment, please rerun this cell to show the HTML representation or trust the notebook. <br />On GitHub, the HTML representation is unable to render, please try loading this page with nbviewer.org.</b></div><div class=\"sk-container\" hidden><div class=\"sk-item\"><div class=\"sk-estimator fitted sk-toggleable\"><input class=\"sk-toggleable__control sk-hidden--visually\" id=\"sk-estimator-id-2\" type=\"checkbox\" checked><label for=\"sk-estimator-id-2\" class=\"sk-toggleable__label fitted sk-toggleable__label-arrow fitted\">&nbsp;&nbsp;MultinomialNB<a class=\"sk-estimator-doc-link fitted\" rel=\"noreferrer\" target=\"_blank\" href=\"https://scikit-learn.org/1.4/modules/generated/sklearn.naive_bayes.MultinomialNB.html\">?<span>Documentation for MultinomialNB</span></a><span class=\"sk-estimator-doc-link fitted\">i<span>Fitted</span></span></label><div class=\"sk-toggleable__content fitted\"><pre>MultinomialNB()</pre></div> </div></div></div></div>"
      ],
      "text/plain": [
       "MultinomialNB()"
      ]
     },
     "execution_count": 493,
     "metadata": {},
     "output_type": "execute_result"
    }
   ],
   "source": [
    "clf.fit(x_train,y_train)"
   ]
  },
  {
   "cell_type": "code",
   "execution_count": 495,
   "id": "bba0ed12-8ed0-4b68-a6f6-f7d110cb0538",
   "metadata": {},
   "outputs": [],
   "source": [
    "# Model Prediction \n"
   ]
  },
  {
   "cell_type": "code",
   "execution_count": 497,
   "id": "b15009eb-e131-4d43-874c-fb0b2399bd35",
   "metadata": {},
   "outputs": [
    {
     "data": {
      "text/plain": [
       "array(['محايد ', 'محايد ', 'محايد ', 'محايد ', 'محايد ', 'محايد ',\n",
       "       'محايد ', 'محايد ', 'محايد ', 'محايد ', 'محايد ', 'إيجابى ',\n",
       "       'محايد ', 'محايد ', 'محايد ', 'محايد ', 'محايد ', 'محايد ',\n",
       "       'محايد ', 'محايد ', 'محايد ', 'محايد ', 'محايد ', 'محايد ',\n",
       "       'محايد '], dtype='<U7')"
      ]
     },
     "execution_count": 497,
     "metadata": {},
     "output_type": "execute_result"
    }
   ],
   "source": [
    "y_pre=clf.predict(x_test)\n",
    "y_pre"
   ]
  },
  {
   "cell_type": "code",
   "execution_count": 499,
   "id": "f39dc568-316f-405b-9ab7-b4b96b38ff93",
   "metadata": {},
   "outputs": [
    {
     "data": {
      "text/plain": [
       "array(['محايد ', 'محايد ', 'محايد ', 'محايد ', 'محايد ', 'ايجابى ',\n",
       "       'محايد ', 'محايد ', 'محايد ', 'ايجابى', 'ايجابى', 'إيجابى ',\n",
       "       'محايد ', 'محايد ', 'ايجابى', 'إيجابى ', 'محايد ', 'سلبى',\n",
       "       'محايد ', 'محايد ', 'ايجابى', 'إيجابى', 'ايجابى', 'محايد ',\n",
       "       'محايد '], dtype=object)"
      ]
     },
     "execution_count": 499,
     "metadata": {},
     "output_type": "execute_result"
    }
   ],
   "source": [
    "y_test.values"
   ]
  },
  {
   "cell_type": "code",
   "execution_count": 501,
   "id": "ebf139dc-e036-4b09-bfe3-2fb0b8aa94b9",
   "metadata": {},
   "outputs": [],
   "source": [
    "#Model Evaluation "
   ]
  },
  {
   "cell_type": "code",
   "execution_count": 503,
   "id": "39e97e4c-4aa3-4c9b-aa6b-9128b6e7623b",
   "metadata": {},
   "outputs": [],
   "source": [
    "from sklearn.metrics import confusion_matrix,accuracy_score,classification_report"
   ]
  },
  {
   "cell_type": "code",
   "execution_count": 505,
   "id": "bf1af65d-642e-4da2-adcd-dff8f785af85",
   "metadata": {},
   "outputs": [
    {
     "name": "stdout",
     "output_type": "stream",
     "text": [
      "[[ 0  0  0  0  0  1]\n",
      " [ 0  1  0  0  0  1]\n",
      " [ 0  0  0  0  0  5]\n",
      " [ 0  0  0  0  0  1]\n",
      " [ 0  0  0  0  0  1]\n",
      " [ 0  0  0  0  0 15]]\n"
     ]
    }
   ],
   "source": [
    "print(confusion_matrix(y_test,y_pre))"
   ]
  },
  {
   "cell_type": "code",
   "execution_count": 507,
   "id": "20ef4e7c-0b3d-4310-ac3c-a69619f92252",
   "metadata": {},
   "outputs": [
    {
     "name": "stdout",
     "output_type": "stream",
     "text": [
      "0.64\n"
     ]
    }
   ],
   "source": [
    "print(accuracy_score(y_test,y_pre))"
   ]
  },
  {
   "cell_type": "code",
   "execution_count": 509,
   "id": "05402568-eaed-43c1-ac96-eb996a9d8f0d",
   "metadata": {},
   "outputs": [
    {
     "name": "stdout",
     "output_type": "stream",
     "text": [
      "              precision    recall  f1-score   support\n",
      "\n",
      "      إيجابى       0.00      0.00      0.00         1\n",
      "     إيجابى        1.00      0.50      0.67         2\n",
      "      ايجابى       0.00      0.00      0.00         5\n",
      "     ايجابى        0.00      0.00      0.00         1\n",
      "        سلبى       0.00      0.00      0.00         1\n",
      "      محايد        0.62      1.00      0.77        15\n",
      "\n",
      "    accuracy                           0.64        25\n",
      "   macro avg       0.27      0.25      0.24        25\n",
      "weighted avg       0.46      0.64      0.51        25\n",
      "\n"
     ]
    },
    {
     "name": "stderr",
     "output_type": "stream",
     "text": [
      "C:\\Users\\Work\\anaconda3\\Lib\\site-packages\\sklearn\\metrics\\_classification.py:1509: UndefinedMetricWarning: Precision is ill-defined and being set to 0.0 in labels with no predicted samples. Use `zero_division` parameter to control this behavior.\n",
      "  _warn_prf(average, modifier, f\"{metric.capitalize()} is\", len(result))\n",
      "C:\\Users\\Work\\anaconda3\\Lib\\site-packages\\sklearn\\metrics\\_classification.py:1509: UndefinedMetricWarning: Precision is ill-defined and being set to 0.0 in labels with no predicted samples. Use `zero_division` parameter to control this behavior.\n",
      "  _warn_prf(average, modifier, f\"{metric.capitalize()} is\", len(result))\n",
      "C:\\Users\\Work\\anaconda3\\Lib\\site-packages\\sklearn\\metrics\\_classification.py:1509: UndefinedMetricWarning: Precision is ill-defined and being set to 0.0 in labels with no predicted samples. Use `zero_division` parameter to control this behavior.\n",
      "  _warn_prf(average, modifier, f\"{metric.capitalize()} is\", len(result))\n"
     ]
    }
   ],
   "source": [
    "print(classification_report(y_test,y_pre))"
   ]
  },
  {
   "cell_type": "code",
   "execution_count": 23,
   "id": "2db6d166-7aad-43ad-8d86-d0b4f02a52f3",
   "metadata": {},
   "outputs": [],
   "source": [
    "#Model Deployment& Production \n"
   ]
  },
  {
   "cell_type": "code",
   "execution_count": 511,
   "id": "5ca8187f-bbf7-4845-acc5-dc4e00c5dd06",
   "metadata": {},
   "outputs": [],
   "source": [
    "import joblib"
   ]
  },
  {
   "cell_type": "code",
   "execution_count": 517,
   "id": "6dd31408-2364-47ad-bd4e-7c814dc51a91",
   "metadata": {},
   "outputs": [
    {
     "data": {
      "text/plain": [
       "['Feedback.pkl']"
      ]
     },
     "execution_count": 517,
     "metadata": {},
     "output_type": "execute_result"
    }
   ],
   "source": [
    "joblib.dump(clf, 'Feedback.pkl')\n"
   ]
  },
  {
   "cell_type": "code",
   "execution_count": null,
   "id": "4fbd1381-e645-48e3-8991-dc02fd6b17c4",
   "metadata": {},
   "outputs": [],
   "source": []
  },
  {
   "cell_type": "code",
   "execution_count": 37,
   "id": "7b9803cb-cf0f-4804-b18f-701a0215afd7",
   "metadata": {},
   "outputs": [
    {
     "ename": "ImportError",
     "evalue": "cannot import name 'AutoModelForSequenceClassificationTrainer' from 'transformers' (C:\\Users\\Work\\anaconda3\\Lib\\site-packages\\transformers\\__init__.py)",
     "output_type": "error",
     "traceback": [
      "\u001b[1;31m---------------------------------------------------------------------------\u001b[0m",
      "\u001b[1;31mImportError\u001b[0m                               Traceback (most recent call last)",
      "Cell \u001b[1;32mIn[37], line 6\u001b[0m\n\u001b[0;32m      4\u001b[0m \u001b[38;5;28;01mfrom\u001b[39;00m \u001b[38;5;21;01msklearn\u001b[39;00m\u001b[38;5;21;01m.\u001b[39;00m\u001b[38;5;21;01mmodel_selection\u001b[39;00m \u001b[38;5;28;01mimport\u001b[39;00m train_test_split\n\u001b[0;32m      5\u001b[0m \u001b[38;5;28;01mfrom\u001b[39;00m \u001b[38;5;21;01msklearn\u001b[39;00m\u001b[38;5;21;01m.\u001b[39;00m\u001b[38;5;21;01mmetrics\u001b[39;00m \u001b[38;5;28;01mimport\u001b[39;00m classification_report, confusion_matrix, f1_score, precision_score, recall_score, accuracy_score\n\u001b[1;32m----> 6\u001b[0m \u001b[38;5;28;01mfrom\u001b[39;00m \u001b[38;5;21;01mtransformers\u001b[39;00m \u001b[38;5;28;01mimport\u001b[39;00m AutoTokenizer, AutoModelForSequenceClassificationTrainer, TrainingArguments\n",
      "\u001b[1;31mImportError\u001b[0m: cannot import name 'AutoModelForSequenceClassificationTrainer' from 'transformers' (C:\\Users\\Work\\anaconda3\\Lib\\site-packages\\transformers\\__init__.py)"
     ]
    }
   ],
   "source": []
  },
  {
   "cell_type": "code",
   "execution_count": null,
   "id": "e66aab5e-7dfa-45bd-9a0e-9b9d9ace7c68",
   "metadata": {},
   "outputs": [],
   "source": []
  },
  {
   "cell_type": "code",
   "execution_count": null,
   "id": "20833ec2-46c5-43c8-9c29-a9cc0c2372f0",
   "metadata": {},
   "outputs": [],
   "source": []
  },
  {
   "cell_type": "code",
   "execution_count": null,
   "id": "d755e511-f249-4bf3-ad62-0eed89991180",
   "metadata": {},
   "outputs": [],
   "source": []
  },
  {
   "cell_type": "code",
   "execution_count": null,
   "id": "ee64b207-b500-444c-81fa-ee62a65dc165",
   "metadata": {},
   "outputs": [],
   "source": []
  },
  {
   "cell_type": "code",
   "execution_count": null,
   "id": "3f40eb7c-7924-4493-a9a9-d7e3f34ed6cd",
   "metadata": {},
   "outputs": [],
   "source": []
  },
  {
   "cell_type": "code",
   "execution_count": null,
   "id": "fb2a3a60-b230-49cd-9be3-9af1dbeebc34",
   "metadata": {},
   "outputs": [],
   "source": []
  },
  {
   "cell_type": "code",
   "execution_count": null,
   "id": "cef74d9a-3837-4bff-a964-51b9097867fa",
   "metadata": {},
   "outputs": [],
   "source": []
  },
  {
   "cell_type": "code",
   "execution_count": null,
   "id": "542ee552-ec59-4d67-8010-320fd9e44102",
   "metadata": {},
   "outputs": [],
   "source": []
  },
  {
   "cell_type": "code",
   "execution_count": null,
   "id": "35086b69-f175-4c99-81f5-da3a0ed236de",
   "metadata": {},
   "outputs": [],
   "source": []
  },
  {
   "cell_type": "code",
   "execution_count": null,
   "id": "8d86a633-f97a-4026-ad60-f329abcf532d",
   "metadata": {},
   "outputs": [],
   "source": []
  },
  {
   "cell_type": "code",
   "execution_count": null,
   "id": "ed3af54f-280f-48b2-a0d7-d84d8db9bf7c",
   "metadata": {},
   "outputs": [],
   "source": []
  },
  {
   "cell_type": "code",
   "execution_count": null,
   "id": "881497d9-3af3-49a8-86ec-ada8de3b4f4b",
   "metadata": {},
   "outputs": [],
   "source": []
  }
 ],
 "metadata": {
  "kernelspec": {
   "display_name": "Python 3 (ipykernel)",
   "language": "python",
   "name": "python3"
  },
  "language_info": {
   "codemirror_mode": {
    "name": "ipython",
    "version": 3
   },
   "file_extension": ".py",
   "mimetype": "text/x-python",
   "name": "python",
   "nbconvert_exporter": "python",
   "pygments_lexer": "ipython3",
   "version": "3.12.4"
  }
 },
 "nbformat": 4,
 "nbformat_minor": 5
}
